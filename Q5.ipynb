{
 "cells": [
  {
   "cell_type": "code",
   "execution_count": 1,
   "id": "f0240394",
   "metadata": {
    "tags": []
   },
   "outputs": [
    {
     "data": {
      "text/html": [
       "Current session configs: <tt>{'conf': {'spark.sql.catalog.spark_catalog.type': 'hive', 'spark.executor.instances': '8', 'spark.executor.memory': '2g', 'spark.executor.cores': '1'}, 'kind': 'pyspark'}</tt><br>"
      ],
      "text/plain": [
       "<IPython.core.display.HTML object>"
      ]
     },
     "metadata": {},
     "output_type": "display_data"
    },
    {
     "data": {
      "text/html": [
       "<table>\n",
       "<tr><th>ID</th><th>YARN Application ID</th><th>Kind</th><th>State</th><th>Spark UI</th><th>Driver log</th><th>User</th><th>Current session?</th></tr><tr><td>3839</td><td>application_1732639283265_3779</td><td>pyspark</td><td>busy</td><td><a target=\"_blank\" href=\"http://ip-192-168-1-36.eu-central-1.compute.internal:20888/proxy/application_1732639283265_3779/\">Link</a></td><td><a target=\"_blank\" href=\"http://ip-192-168-1-233.eu-central-1.compute.internal:8042/node/containerlogs/container_1732639283265_3779_01_000001/livy\">Link</a></td><td>None</td><td></td></tr><tr><td>3840</td><td>application_1732639283265_3780</td><td>pyspark</td><td>idle</td><td><a target=\"_blank\" href=\"http://ip-192-168-1-36.eu-central-1.compute.internal:20888/proxy/application_1732639283265_3780/\">Link</a></td><td><a target=\"_blank\" href=\"http://ip-192-168-1-181.eu-central-1.compute.internal:8042/node/containerlogs/container_1732639283265_3780_01_000001/livy\">Link</a></td><td>None</td><td></td></tr><tr><td>3843</td><td>application_1732639283265_3783</td><td>pyspark</td><td>idle</td><td><a target=\"_blank\" href=\"http://ip-192-168-1-36.eu-central-1.compute.internal:20888/proxy/application_1732639283265_3783/\">Link</a></td><td><a target=\"_blank\" href=\"http://ip-192-168-1-117.eu-central-1.compute.internal:8042/node/containerlogs/container_1732639283265_3783_01_000002/livy\">Link</a></td><td>None</td><td></td></tr><tr><td>3850</td><td>application_1732639283265_3790</td><td>pyspark</td><td>idle</td><td><a target=\"_blank\" href=\"http://ip-192-168-1-36.eu-central-1.compute.internal:20888/proxy/application_1732639283265_3790/\">Link</a></td><td><a target=\"_blank\" href=\"http://ip-192-168-1-203.eu-central-1.compute.internal:8042/node/containerlogs/container_1732639283265_3790_01_000001/livy\">Link</a></td><td>None</td><td></td></tr><tr><td>3855</td><td>application_1732639283265_3795</td><td>pyspark</td><td>busy</td><td><a target=\"_blank\" href=\"http://ip-192-168-1-36.eu-central-1.compute.internal:20888/proxy/application_1732639283265_3795/\">Link</a></td><td><a target=\"_blank\" href=\"http://ip-192-168-1-181.eu-central-1.compute.internal:8042/node/containerlogs/container_1732639283265_3795_01_000002/livy\">Link</a></td><td>None</td><td></td></tr><tr><td>3861</td><td>application_1732639283265_3801</td><td>pyspark</td><td>idle</td><td><a target=\"_blank\" href=\"http://ip-192-168-1-36.eu-central-1.compute.internal:20888/proxy/application_1732639283265_3801/\">Link</a></td><td><a target=\"_blank\" href=\"http://ip-192-168-1-80.eu-central-1.compute.internal:8042/node/containerlogs/container_1732639283265_3801_01_000001/livy\">Link</a></td><td>None</td><td></td></tr><tr><td>3869</td><td>application_1732639283265_3809</td><td>pyspark</td><td>busy</td><td><a target=\"_blank\" href=\"http://ip-192-168-1-36.eu-central-1.compute.internal:20888/proxy/application_1732639283265_3809/\">Link</a></td><td><a target=\"_blank\" href=\"http://ip-192-168-1-91.eu-central-1.compute.internal:8042/node/containerlogs/container_1732639283265_3809_01_000001/livy\">Link</a></td><td>None</td><td></td></tr></table>"
      ],
      "text/plain": [
       "<IPython.core.display.HTML object>"
      ]
     },
     "metadata": {},
     "output_type": "display_data"
    }
   ],
   "source": [
    "%%configure -f\n",
    "{\n",
    "    \"conf\": {\n",
    "        \"spark.executor.instances\": \"8\",\n",
    "        \"spark.executor.memory\": \"2g\",\n",
    "        \"spark.executor.cores\": \"1\"\n",
    "    }\n",
    "}"
   ]
  },
  {
   "cell_type": "code",
   "execution_count": 2,
   "id": "a80babe6",
   "metadata": {
    "tags": []
   },
   "outputs": [
    {
     "name": "stdout",
     "output_type": "stream",
     "text": [
      "Starting Spark application\n"
     ]
    },
    {
     "data": {
      "text/html": [
       "<table>\n",
       "<tr><th>ID</th><th>YARN Application ID</th><th>Kind</th><th>State</th><th>Spark UI</th><th>Driver log</th><th>User</th><th>Current session?</th></tr><tr><td>3872</td><td>application_1732639283265_3812</td><td>pyspark</td><td>idle</td><td><a target=\"_blank\" href=\"http://ip-192-168-1-36.eu-central-1.compute.internal:20888/proxy/application_1732639283265_3812/\">Link</a></td><td><a target=\"_blank\" href=\"http://ip-192-168-1-119.eu-central-1.compute.internal:8042/node/containerlogs/container_1732639283265_3812_01_000001/livy\">Link</a></td><td>None</td><td>✔</td></tr></table>"
      ],
      "text/plain": [
       "<IPython.core.display.HTML object>"
      ]
     },
     "metadata": {},
     "output_type": "display_data"
    },
    {
     "data": {
      "application/vnd.jupyter.widget-view+json": {
       "model_id": "",
       "version_major": 2,
       "version_minor": 0
      },
      "text/plain": [
       "FloatProgress(value=0.0, bar_style='info', description='Progress:', layout=Layout(height='25px', width='50%'),…"
      ]
     },
     "metadata": {},
     "output_type": "display_data"
    },
    {
     "name": "stdout",
     "output_type": "stream",
     "text": [
      "SparkSession available as 'spark'.\n"
     ]
    },
    {
     "data": {
      "application/vnd.jupyter.widget-view+json": {
       "model_id": "",
       "version_major": 2,
       "version_minor": 0
      },
      "text/plain": [
       "FloatProgress(value=0.0, bar_style='info', description='Progress:', layout=Layout(height='25px', width='50%'),…"
      ]
     },
     "metadata": {},
     "output_type": "display_data"
    }
   ],
   "source": [
    "import time\n",
    "from pyspark.sql import SparkSession\n",
    "from pyspark.sql.window import Window\n",
    "from pyspark.sql.functions import col, year, count, when, desc, sum, to_timestamp, row_number, regexp_replace, expr, asc\n",
    "from pyspark.sql.types import DecimalType\n",
    "from pyspark.sql import functions as F\n",
    "from sedona.spark import *"
   ]
  },
  {
   "cell_type": "code",
   "execution_count": 3,
   "id": "4ee5818c",
   "metadata": {
    "tags": []
   },
   "outputs": [
    {
     "data": {
      "application/vnd.jupyter.widget-view+json": {
       "model_id": "",
       "version_major": 2,
       "version_minor": 0
      },
      "text/plain": [
       "FloatProgress(value=0.0, bar_style='info', description='Progress:', layout=Layout(height='25px', width='50%'),…"
      ]
     },
     "metadata": {},
     "output_type": "display_data"
    }
   ],
   "source": [
    "# QUERY 5\n",
    "APP_NAME = \"Police Station/Crimes Proximity\"\n",
    "spark = SparkSession.builder.appName(APP_NAME).getOrCreate()\n",
    "sedona = SedonaContext.create(spark)"
   ]
  },
  {
   "cell_type": "code",
   "execution_count": 4,
   "id": "63a6c27d",
   "metadata": {
    "tags": []
   },
   "outputs": [
    {
     "data": {
      "application/vnd.jupyter.widget-view+json": {
       "model_id": "",
       "version_major": 2,
       "version_minor": 0
      },
      "text/plain": [
       "FloatProgress(value=0.0, bar_style='info', description='Progress:', layout=Layout(height='25px', width='50%'),…"
      ]
     },
     "metadata": {},
     "output_type": "display_data"
    }
   ],
   "source": [
    "# crime data\n",
    "d1 = spark.read.csv(\n",
    "    \"s3://initial-notebook-data-bucket-dblab-905418150721/CrimeData/Crime_Data_from_2010_to_2019_20241101.csv\",\n",
    "    header=True, inferSchema=True)\n",
    "d2 = spark.read.csv(\n",
    "    \"s3://initial-notebook-data-bucket-dblab-905418150721/CrimeData/Crime_Data_from_2020_to_Present_20241101.csv\",\n",
    "    header=True, inferSchema=True)\n",
    "crime_data = d1.union(d2)\n",
    "\n",
    "# remove NULL ISLAND (0,0)\n",
    "crime_data = crime_data.filter(~((col('LAT') == 0) & (col('LON') == 0)))\n",
    "crime_data = crime_data.withColumn(\"crime_geometry\", ST_Point(F.col(\"LON\"), F.col(\"LAT\")))\n",
    "crime_data = crime_data.select(col('crime_geometry'), col('AREA '), col('DR_NO'))\n",
    "\n",
    "# police stations data\n",
    "police_stations = spark.read.csv(\n",
    "    \"s3://initial-notebook-data-bucket-dblab-905418150721/LA_Police_Stations.csv\",\n",
    "    header=True, inferSchema=True).withColumnRenamed(\"X\", \"PS_LON\").withColumnRenamed(\"Y\", \"PS_LAT\")\n",
    "police_stations = police_stations.withColumn(\"ps_geometry\", ST_Point(F.col(\"PS_LON\"), F.col(\"PS_LAT\"))).select(col('ps_geometry'), col('DIVISION'))"
   ]
  },
  {
   "cell_type": "code",
   "execution_count": 5,
   "id": "b85e7b1a",
   "metadata": {
    "tags": []
   },
   "outputs": [
    {
     "data": {
      "application/vnd.jupyter.widget-view+json": {
       "model_id": "",
       "version_major": 2,
       "version_minor": 0
      },
      "text/plain": [
       "FloatProgress(value=0.0, bar_style='info', description='Progress:', layout=Layout(height='25px', width='50%'),…"
      ]
     },
     "metadata": {},
     "output_type": "display_data"
    }
   ],
   "source": [
    "def query5(crime_data, police_stations):\n",
    "    joined_df = crime_data.crossJoin(police_stations).withColumn(\n",
    "        \"distance_km\",\n",
    "        ST_DistanceSphere(F.col(\"crime_geometry\"), F.col(\"ps_geometry\")) / 1000\n",
    "    )\n",
    "\n",
    "    window_spec = Window.partitionBy(\"DR_NO\").orderBy(asc(\"distance_km\"))\n",
    "    joined_df_with_rank = joined_df.withColumn(\"rank\", F.row_number().over(window_spec))\n",
    "    nearest_station_df = joined_df_with_rank.filter(F.col(\"rank\") == 1).select(\n",
    "        \"DR_NO\", \"DIVISION\", \"distance_km\"\n",
    "    )\n",
    "\n",
    "    result_df = nearest_station_df.groupBy(\"DIVISION\").agg(\n",
    "        F.count(\"*\").alias(\"#\"),\n",
    "        F.mean(\"distance_km\").alias(\"average_distance\")\n",
    "    ).orderBy(F.col(\"#\").desc())\n",
    "\n",
    "    result_df.show(n=result_df.count(), truncate=False)"
   ]
  },
  {
   "cell_type": "code",
   "execution_count": 6,
   "id": "be711b68",
   "metadata": {
    "tags": []
   },
   "outputs": [
    {
     "data": {
      "application/vnd.jupyter.widget-view+json": {
       "model_id": "",
       "version_major": 2,
       "version_minor": 0
      },
      "text/plain": [
       "FloatProgress(value=0.0, bar_style='info', description='Progress:', layout=Layout(height='25px', width='50%'),…"
      ]
     },
     "metadata": {},
     "output_type": "display_data"
    },
    {
     "name": "stdout",
     "output_type": "stream",
     "text": [
      "+----------------+------+------------------+\n",
      "|DIVISION        |#     |average_distance  |\n",
      "+----------------+------+------------------+\n",
      "|HOLLYWOOD       |224340|2.076263960178718 |\n",
      "|VAN NUYS        |210134|2.9533697428197803|\n",
      "|SOUTHWEST       |188901|2.191398805780884 |\n",
      "|WILSHIRE        |185996|2.5926655329787645|\n",
      "|77TH STREET     |171827|1.7165449719700954|\n",
      "|OLYMPIC         |170897|1.7236036971780955|\n",
      "|NORTH HOLLYWOOD |167854|2.6430060941415645|\n",
      "|PACIFIC         |161359|3.850070655307917 |\n",
      "|CENTRAL         |153871|0.9924764374568908|\n",
      "|RAMPART         |152736|1.5345341879190122|\n",
      "|SOUTHEAST       |152176|2.4218662158881803|\n",
      "|WEST VALLEY     |138643|3.035671216314069 |\n",
      "|TOPANGA         |138217|3.296954841755553 |\n",
      "|FOOTHILL        |134896|4.250921708424982 |\n",
      "|HARBOR          |126747|3.702561599356521 |\n",
      "|HOLLENBECK      |115837|2.680181237706819 |\n",
      "|WEST LOS ANGELES|115781|2.7924572890341226|\n",
      "|NEWTON          |111110|1.6346357397097429|\n",
      "|NORTHEAST       |108109|3.6236655246040868|\n",
      "|MISSION         |103355|3.690942614278596 |\n",
      "|DEVONSHIRE      |77094 |2.8247654128008226|\n",
      "+----------------+------+------------------+\n",
      "\n",
      "Execution Time: 50.239723682403564\n",
      "Executor Instances: 8\n",
      "Executor Memory: 2g\n",
      "Executor Cores: 1"
     ]
    }
   ],
   "source": [
    "start = time.time()\n",
    "query5(crime_data, police_stations)\n",
    "end = time.time()\n",
    "print(\"Execution Time:\", end-start)\n",
    "conf = spark.sparkContext.getConf()\n",
    "print(\"Executor Instances:\", conf.get(\"spark.executor.instances\"))\n",
    "print(\"Executor Memory:\", conf.get(\"spark.executor.memory\"))\n",
    "print(\"Executor Cores:\", conf.get(\"spark.executor.cores\"))"
   ]
  },
  {
   "cell_type": "code",
   "execution_count": null,
   "id": "28409916-a7da-4d32-b66a-e939ed5d72a2",
   "metadata": {},
   "outputs": [],
   "source": []
  }
 ],
 "metadata": {
  "kernelspec": {
   "display_name": "Sparkmagic (PySpark)",
   "language": "python",
   "name": "pysparkkernel"
  },
  "language_info": {
   "codemirror_mode": {
    "name": "python",
    "version": 3
   },
   "file_extension": ".py",
   "mimetype": "text/x-python",
   "name": "pyspark",
   "pygments_lexer": "python3"
  }
 },
 "nbformat": 4,
 "nbformat_minor": 5
}
