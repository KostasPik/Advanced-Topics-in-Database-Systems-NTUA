{
 "cells": [
  {
   "cell_type": "code",
   "execution_count": 1,
   "id": "711907ce",
   "metadata": {
    "scrolled": false
   },
   "outputs": [
    {
     "data": {
      "text/html": [
       "Current session configs: <tt>{'conf': {'spark.sql.catalog.spark_catalog.type': 'hive', 'spark.executor.memory': '8g', 'spark.executor.cores': '4'}, 'kind': 'pyspark'}</tt><br>"
      ],
      "text/plain": [
       "<IPython.core.display.HTML object>"
      ]
     },
     "metadata": {},
     "output_type": "display_data"
    },
    {
     "data": {
      "text/html": [
       "<table>\n",
       "<tr><th>ID</th><th>YARN Application ID</th><th>Kind</th><th>State</th><th>Spark UI</th><th>Driver log</th><th>User</th><th>Current session?</th></tr><tr><td>3608</td><td>application_1732639283265_3564</td><td>pyspark</td><td>idle</td><td><a target=\"_blank\" href=\"http://ip-192-168-1-36.eu-central-1.compute.internal:20888/proxy/application_1732639283265_3564/\">Link</a></td><td><a target=\"_blank\" href=\"http://ip-192-168-1-91.eu-central-1.compute.internal:8042/node/containerlogs/container_1732639283265_3564_01_000001/livy\">Link</a></td><td>None</td><td></td></tr><tr><td>3612</td><td>application_1732639283265_3568</td><td>pyspark</td><td>idle</td><td><a target=\"_blank\" href=\"http://ip-192-168-1-36.eu-central-1.compute.internal:20888/proxy/application_1732639283265_3568/\">Link</a></td><td><a target=\"_blank\" href=\"http://ip-192-168-1-166.eu-central-1.compute.internal:8042/node/containerlogs/container_1732639283265_3568_01_000001/livy\">Link</a></td><td>None</td><td></td></tr><tr><td>3624</td><td>application_1732639283265_3580</td><td>pyspark</td><td>idle</td><td><a target=\"_blank\" href=\"http://ip-192-168-1-36.eu-central-1.compute.internal:20888/proxy/application_1732639283265_3580/\">Link</a></td><td><a target=\"_blank\" href=\"http://ip-192-168-1-91.eu-central-1.compute.internal:8042/node/containerlogs/container_1732639283265_3580_01_000001/livy\">Link</a></td><td>None</td><td></td></tr><tr><td>3630</td><td>application_1732639283265_3586</td><td>pyspark</td><td>idle</td><td><a target=\"_blank\" href=\"http://ip-192-168-1-36.eu-central-1.compute.internal:20888/proxy/application_1732639283265_3586/\">Link</a></td><td><a target=\"_blank\" href=\"http://ip-192-168-1-80.eu-central-1.compute.internal:8042/node/containerlogs/container_1732639283265_3586_01_000001/livy\">Link</a></td><td>None</td><td></td></tr><tr><td>3634</td><td>application_1732639283265_3590</td><td>pyspark</td><td>idle</td><td><a target=\"_blank\" href=\"http://ip-192-168-1-36.eu-central-1.compute.internal:20888/proxy/application_1732639283265_3590/\">Link</a></td><td><a target=\"_blank\" href=\"http://ip-192-168-1-233.eu-central-1.compute.internal:8042/node/containerlogs/container_1732639283265_3590_01_000001/livy\">Link</a></td><td>None</td><td></td></tr><tr><td>3637</td><td>application_1732639283265_3593</td><td>pyspark</td><td>busy</td><td><a target=\"_blank\" href=\"http://ip-192-168-1-36.eu-central-1.compute.internal:20888/proxy/application_1732639283265_3593/\">Link</a></td><td><a target=\"_blank\" href=\"http://ip-192-168-1-193.eu-central-1.compute.internal:8042/node/containerlogs/container_1732639283265_3593_01_000001/livy\">Link</a></td><td>None</td><td></td></tr><tr><td>3641</td><td>application_1732639283265_3597</td><td>pyspark</td><td>idle</td><td><a target=\"_blank\" href=\"http://ip-192-168-1-36.eu-central-1.compute.internal:20888/proxy/application_1732639283265_3597/\">Link</a></td><td><a target=\"_blank\" href=\"http://ip-192-168-1-112.eu-central-1.compute.internal:8042/node/containerlogs/container_1732639283265_3597_01_000001/livy\">Link</a></td><td>None</td><td></td></tr><tr><td>3659</td><td>application_1732639283265_3605</td><td>pyspark</td><td>idle</td><td><a target=\"_blank\" href=\"http://ip-192-168-1-36.eu-central-1.compute.internal:20888/proxy/application_1732639283265_3605/\">Link</a></td><td><a target=\"_blank\" href=\"http://ip-192-168-1-193.eu-central-1.compute.internal:8042/node/containerlogs/container_1732639283265_3605_01_000001/livy\">Link</a></td><td>None</td><td></td></tr><tr><td>3660</td><td>application_1732639283265_3606</td><td>pyspark</td><td>idle</td><td><a target=\"_blank\" href=\"http://ip-192-168-1-36.eu-central-1.compute.internal:20888/proxy/application_1732639283265_3606/\">Link</a></td><td><a target=\"_blank\" href=\"http://ip-192-168-1-181.eu-central-1.compute.internal:8042/node/containerlogs/container_1732639283265_3606_01_000001/livy\">Link</a></td><td>None</td><td></td></tr><tr><td>3661</td><td>application_1732639283265_3607</td><td>pyspark</td><td>idle</td><td><a target=\"_blank\" href=\"http://ip-192-168-1-36.eu-central-1.compute.internal:20888/proxy/application_1732639283265_3607/\">Link</a></td><td><a target=\"_blank\" href=\"http://ip-192-168-1-16.eu-central-1.compute.internal:8042/node/containerlogs/container_1732639283265_3607_01_000001/livy\">Link</a></td><td>None</td><td></td></tr><tr><td>3662</td><td>application_1732639283265_3608</td><td>pyspark</td><td>idle</td><td><a target=\"_blank\" href=\"http://ip-192-168-1-36.eu-central-1.compute.internal:20888/proxy/application_1732639283265_3608/\">Link</a></td><td><a target=\"_blank\" href=\"http://ip-192-168-1-193.eu-central-1.compute.internal:8042/node/containerlogs/container_1732639283265_3608_01_000001/livy\">Link</a></td><td>None</td><td></td></tr><tr><td>3669</td><td>application_1732639283265_3615</td><td>pyspark</td><td>idle</td><td><a target=\"_blank\" href=\"http://ip-192-168-1-36.eu-central-1.compute.internal:20888/proxy/application_1732639283265_3615/\">Link</a></td><td><a target=\"_blank\" href=\"http://ip-192-168-1-166.eu-central-1.compute.internal:8042/node/containerlogs/container_1732639283265_3615_01_000002/livy\">Link</a></td><td>None</td><td></td></tr><tr><td>3671</td><td>application_1732639283265_3617</td><td>pyspark</td><td>idle</td><td><a target=\"_blank\" href=\"http://ip-192-168-1-36.eu-central-1.compute.internal:20888/proxy/application_1732639283265_3617/\">Link</a></td><td><a target=\"_blank\" href=\"http://ip-192-168-1-94.eu-central-1.compute.internal:8042/node/containerlogs/container_1732639283265_3617_01_000001/livy\">Link</a></td><td>None</td><td></td></tr><tr><td>3676</td><td>application_1732639283265_3622</td><td>pyspark</td><td>idle</td><td><a target=\"_blank\" href=\"http://ip-192-168-1-36.eu-central-1.compute.internal:20888/proxy/application_1732639283265_3622/\">Link</a></td><td><a target=\"_blank\" href=\"http://ip-192-168-1-178.eu-central-1.compute.internal:8042/node/containerlogs/container_1732639283265_3622_01_000001/livy\">Link</a></td><td>None</td><td></td></tr><tr><td>3677</td><td>application_1732639283265_3623</td><td>pyspark</td><td>idle</td><td><a target=\"_blank\" href=\"http://ip-192-168-1-36.eu-central-1.compute.internal:20888/proxy/application_1732639283265_3623/\">Link</a></td><td><a target=\"_blank\" href=\"http://ip-192-168-1-166.eu-central-1.compute.internal:8042/node/containerlogs/container_1732639283265_3623_01_000001/livy\">Link</a></td><td>None</td><td></td></tr><tr><td>3681</td><td>application_1732639283265_3627</td><td>pyspark</td><td>idle</td><td><a target=\"_blank\" href=\"http://ip-192-168-1-36.eu-central-1.compute.internal:20888/proxy/application_1732639283265_3627/\">Link</a></td><td><a target=\"_blank\" href=\"http://ip-192-168-1-193.eu-central-1.compute.internal:8042/node/containerlogs/container_1732639283265_3627_01_000001/livy\">Link</a></td><td>None</td><td></td></tr><tr><td>3684</td><td>application_1732639283265_3630</td><td>pyspark</td><td>idle</td><td><a target=\"_blank\" href=\"http://ip-192-168-1-36.eu-central-1.compute.internal:20888/proxy/application_1732639283265_3630/\">Link</a></td><td><a target=\"_blank\" href=\"http://ip-192-168-1-233.eu-central-1.compute.internal:8042/node/containerlogs/container_1732639283265_3630_01_000001/livy\">Link</a></td><td>None</td><td></td></tr><tr><td>3696</td><td>application_1732639283265_3642</td><td>pyspark</td><td>idle</td><td><a target=\"_blank\" href=\"http://ip-192-168-1-36.eu-central-1.compute.internal:20888/proxy/application_1732639283265_3642/\">Link</a></td><td><a target=\"_blank\" href=\"http://ip-192-168-1-181.eu-central-1.compute.internal:8042/node/containerlogs/container_1732639283265_3642_01_000001/livy\">Link</a></td><td>None</td><td></td></tr><tr><td>3723</td><td>application_1732639283265_3669</td><td>pyspark</td><td>idle</td><td><a target=\"_blank\" href=\"http://ip-192-168-1-36.eu-central-1.compute.internal:20888/proxy/application_1732639283265_3669/\">Link</a></td><td><a target=\"_blank\" href=\"http://ip-192-168-1-193.eu-central-1.compute.internal:8042/node/containerlogs/container_1732639283265_3669_01_000001/livy\">Link</a></td><td>None</td><td></td></tr><tr><td>3732</td><td>application_1732639283265_3678</td><td>pyspark</td><td>idle</td><td><a target=\"_blank\" href=\"http://ip-192-168-1-36.eu-central-1.compute.internal:20888/proxy/application_1732639283265_3678/\">Link</a></td><td><a target=\"_blank\" href=\"http://ip-192-168-1-80.eu-central-1.compute.internal:8042/node/containerlogs/container_1732639283265_3678_01_000002/livy\">Link</a></td><td>None</td><td></td></tr><tr><td>3753</td><td>application_1732639283265_3699</td><td>pyspark</td><td>idle</td><td><a target=\"_blank\" href=\"http://ip-192-168-1-36.eu-central-1.compute.internal:20888/proxy/application_1732639283265_3699/\">Link</a></td><td><a target=\"_blank\" href=\"http://ip-192-168-1-119.eu-central-1.compute.internal:8042/node/containerlogs/container_1732639283265_3699_01_000001/livy\">Link</a></td><td>None</td><td></td></tr><tr><td>3759</td><td>application_1732639283265_3705</td><td>pyspark</td><td>idle</td><td><a target=\"_blank\" href=\"http://ip-192-168-1-36.eu-central-1.compute.internal:20888/proxy/application_1732639283265_3705/\">Link</a></td><td><a target=\"_blank\" href=\"http://ip-192-168-1-16.eu-central-1.compute.internal:8042/node/containerlogs/container_1732639283265_3705_01_000002/livy\">Link</a></td><td>None</td><td></td></tr><tr><td>3760</td><td>application_1732639283265_3706</td><td>pyspark</td><td>idle</td><td><a target=\"_blank\" href=\"http://ip-192-168-1-36.eu-central-1.compute.internal:20888/proxy/application_1732639283265_3706/\">Link</a></td><td><a target=\"_blank\" href=\"http://ip-192-168-1-193.eu-central-1.compute.internal:8042/node/containerlogs/container_1732639283265_3706_01_000001/livy\">Link</a></td><td>None</td><td></td></tr><tr><td>3763</td><td>application_1732639283265_3709</td><td>pyspark</td><td>idle</td><td><a target=\"_blank\" href=\"http://ip-192-168-1-36.eu-central-1.compute.internal:20888/proxy/application_1732639283265_3709/\">Link</a></td><td><a target=\"_blank\" href=\"http://ip-192-168-1-80.eu-central-1.compute.internal:8042/node/containerlogs/container_1732639283265_3709_01_000001/livy\">Link</a></td><td>None</td><td></td></tr><tr><td>3765</td><td>application_1732639283265_3711</td><td>pyspark</td><td>idle</td><td><a target=\"_blank\" href=\"http://ip-192-168-1-36.eu-central-1.compute.internal:20888/proxy/application_1732639283265_3711/\">Link</a></td><td><a target=\"_blank\" href=\"http://ip-192-168-1-174.eu-central-1.compute.internal:8042/node/containerlogs/container_1732639283265_3711_01_000002/livy\">Link</a></td><td>None</td><td></td></tr></table>"
      ],
      "text/plain": [
       "<IPython.core.display.HTML object>"
      ]
     },
     "metadata": {},
     "output_type": "display_data"
    }
   ],
   "source": [
    "%%configure -f\n",
    "{\n",
    "    \"conf\": {\n",
    "        \"spark.executor.memory\": \"8g\",\n",
    "        \"spark.executor.cores\": \"4\"\n",
    "    }\n",
    "}"
   ]
  },
  {
   "cell_type": "code",
   "execution_count": 2,
   "id": "933af28e",
   "metadata": {
    "scrolled": true
   },
   "outputs": [
    {
     "name": "stdout",
     "output_type": "stream",
     "text": [
      "Starting Spark application\n"
     ]
    },
    {
     "data": {
      "text/html": [
       "<table>\n",
       "<tr><th>ID</th><th>YARN Application ID</th><th>Kind</th><th>State</th><th>Spark UI</th><th>Driver log</th><th>User</th><th>Current session?</th></tr><tr><td>3774</td><td>application_1732639283265_3718</td><td>pyspark</td><td>idle</td><td><a target=\"_blank\" href=\"http://ip-192-168-1-36.eu-central-1.compute.internal:20888/proxy/application_1732639283265_3718/\">Link</a></td><td><a target=\"_blank\" href=\"http://ip-192-168-1-178.eu-central-1.compute.internal:8042/node/containerlogs/container_1732639283265_3718_01_000001/livy\">Link</a></td><td>None</td><td>✔</td></tr></table>"
      ],
      "text/plain": [
       "<IPython.core.display.HTML object>"
      ]
     },
     "metadata": {},
     "output_type": "display_data"
    },
    {
     "data": {
      "application/vnd.jupyter.widget-view+json": {
       "model_id": "",
       "version_major": 2,
       "version_minor": 0
      },
      "text/plain": [
       "FloatProgress(value=0.0, bar_style='info', description='Progress:', layout=Layout(height='25px', width='50%'),…"
      ]
     },
     "metadata": {},
     "output_type": "display_data"
    },
    {
     "name": "stdout",
     "output_type": "stream",
     "text": [
      "SparkSession available as 'spark'.\n"
     ]
    },
    {
     "data": {
      "application/vnd.jupyter.widget-view+json": {
       "model_id": "",
       "version_major": 2,
       "version_minor": 0
      },
      "text/plain": [
       "FloatProgress(value=0.0, bar_style='info', description='Progress:', layout=Layout(height='25px', width='50%'),…"
      ]
     },
     "metadata": {},
     "output_type": "display_data"
    }
   ],
   "source": [
    "import time\n",
    "from pyspark.sql import SparkSession\n",
    "from pyspark.sql.window import Window\n",
    "from pyspark.sql.functions import col, year, count, when, desc, sum, to_timestamp, row_number, regexp_replace, expr, asc\n",
    "from pyspark.sql.types import DecimalType\n",
    "from pyspark.sql import functions as F\n",
    "from sedona.spark import *"
   ]
  },
  {
   "cell_type": "code",
   "execution_count": 3,
   "id": "ca4ecb37",
   "metadata": {},
   "outputs": [
    {
     "data": {
      "application/vnd.jupyter.widget-view+json": {
       "model_id": "",
       "version_major": 2,
       "version_minor": 0
      },
      "text/plain": [
       "FloatProgress(value=0.0, bar_style='info', description='Progress:', layout=Layout(height='25px', width='50%'),…"
      ]
     },
     "metadata": {},
     "output_type": "display_data"
    }
   ],
   "source": [
    "### Query 4\n",
    "APP_NAME = \"Crime Victime Race Analysis\"\n",
    "SPARK_EXECUTORS = 2\n",
    "spark = SparkSession.builder.appName(APP_NAME).config(\"spark.executor.instances\", SPARK_EXECUTORS).getOrCreate()\n",
    "sedona = SedonaContext.create(spark)"
   ]
  },
  {
   "cell_type": "code",
   "execution_count": 4,
   "id": "32a4bf96",
   "metadata": {},
   "outputs": [
    {
     "data": {
      "application/vnd.jupyter.widget-view+json": {
       "model_id": "",
       "version_major": 2,
       "version_minor": 0
      },
      "text/plain": [
       "FloatProgress(value=0.0, bar_style='info', description='Progress:', layout=Layout(height='25px', width='50%'),…"
      ]
     },
     "metadata": {},
     "output_type": "display_data"
    }
   ],
   "source": [
    "# crime data\n",
    "crime_data = spark.read.csv(\n",
    "    \"s3://initial-notebook-data-bucket-dblab-905418150721/CrimeData/Crime_Data_from_2010_to_2019_20241101.csv\",\n",
    "    header=True, inferSchema=True\n",
    ")\n",
    "\n",
    "# remove NULL ISLAND (0,0)\n",
    "crime_data = crime_data.filter(~((F.col('LAT') == 0) & (F.col('LON') == 0))) \\\n",
    "    .select('DR_NO', 'LAT', 'LON', 'Vict Descent', 'Date Rptd') \\\n",
    "    .withColumn('geometry', ST_Point('LON', 'LAT')) \\\n",
    "    .drop('LON').drop('LAT')\n",
    "\n",
    "# filter crimes for the year 2015\n",
    "crime_data = crime_data.withColumn(\"Date Rptd\", to_timestamp(F.col(\"Date Rptd\"), \"MM/dd/yyyy hh:mm:ss a\"))\n",
    "crimes_2015 = crime_data.filter(\n",
    "    (F.year(F.col(\"Date Rptd\")) == 2015) & (F.col(\"Vict Descent\").isNotNull())\n",
    ")\n",
    "\n",
    "# median household income data\n",
    "income_data = spark.read.csv(\n",
    "    \"s3://initial-notebook-data-bucket-dblab-905418150721//LA_income_2015.csv\",\n",
    "    header=True, inferSchema=True\n",
    ")\n",
    "income_data = income_data.withColumn(\n",
    "    \"median_income\",\n",
    "    F.regexp_replace(F.col(\"Estimated Median Income\"), \"[$,]\", \"\").cast(DecimalType())\n",
    ").drop('Estimated Median Income', 'Community')\n",
    "\n",
    "# census block data\n",
    "geojson_path = \"s3://initial-notebook-data-bucket-dblab-905418150721/2010_Census_Blocks.geojson\"\n",
    "census_blocks = sedona.read.format(\"geojson\") \\\n",
    "            .option(\"multiLine\", \"true\").load(geojson_path) \\\n",
    "            .selectExpr(\"explode(features) as features\") \\\n",
    "            .select(\"features.*\")\n",
    "census_blocks = census_blocks.select(\n",
    "            [col(f\"properties.{col_name}\").alias(col_name) for col_name in\n",
    "            census_blocks.schema[\"properties\"].dataType.fieldNames()] + [\"geometry\"],).drop(\"properties\").drop(\"type\")\n",
    "census_blocks = census_blocks.filter(F.col('CITY') == 'Los Angeles')\n",
    "\n",
    "# race and ethnicity legend\n",
    "descent_legend = spark.read.csv( \n",
    "    \"s3://initial-notebook-data-bucket-dblab-905418150721/RE_codes.csv\", \n",
    "    header=True, inferSchema=True\n",
    ")\n",
    "\n",
    "### Query 3\n",
    "comm_join_crimes = crime_data.join(census_blocks, ST_Within(crime_data['geometry'], census_blocks['geometry']))\n",
    "count_comm_crimes = comm_join_crimes.groupby('COMM').agg(F.count('*').alias('crimes_count'))\n",
    "\n",
    "zip_comm_houses_pop = census_blocks.groupBy('ZCTA10', 'COMM').agg(\n",
    "    sum(col('POP_2010')).alias('population'),\n",
    "    sum(col('HOUSING10')).alias('houses'),\n",
    ").select('ZCTA10', 'COMM', 'population', 'houses')\n",
    "\n",
    "zip_comm_houses_pop_hincome = zip_comm_houses_pop.join(\n",
    "    income_data, \n",
    "    income_data['Zip Code'] == zip_comm_houses_pop['ZCTA10']\n",
    ").drop('Zip Code')\n",
    "\n",
    "zip_comm_total_income = zip_comm_houses_pop_hincome.withColumn(\n",
    "    \"zip_total_income\",\n",
    "    col('median_income') * col('houses')\n",
    ")\n",
    "\n",
    "comm_total_population_total_income = zip_comm_total_income.groupBy('COMM').agg(\n",
    "    sum('population').alias('total_population'),\n",
    "    sum('zip_total_income').alias('total_income')\n",
    ")\n",
    "\n",
    "comm_crime_income = comm_total_population_total_income.join(\n",
    "    count_comm_crimes,\n",
    "    on='COMM',\n",
    "    how='right'\n",
    ")\n",
    "comm_mincome_person = comm_crime_income.withColumn(\n",
    "    'average_income_per_person',\n",
    "    when(col('total_population') > 0, col('total_income') / col('total_population'))\n",
    "    .otherwise(0)).withColumn(\n",
    "    'crime_rate_per_person',\n",
    "    when(col('total_population') > 0, col('crimes_count') / col('total_population'))\n",
    "    .otherwise(0)\n",
    ").drop('total_income').drop('crimes_count').drop('total_population')"
   ]
  },
  {
   "cell_type": "code",
   "execution_count": 5,
   "id": "a7227094",
   "metadata": {},
   "outputs": [
    {
     "data": {
      "application/vnd.jupyter.widget-view+json": {
       "model_id": "",
       "version_major": 2,
       "version_minor": 0
      },
      "text/plain": [
       "FloatProgress(value=0.0, bar_style='info', description='Progress:', layout=Layout(height='25px', width='50%'),…"
      ]
     },
     "metadata": {},
     "output_type": "display_data"
    }
   ],
   "source": [
    "def query4(crimes_2015, income_data, census_blocks, descent_legend, comm_mincome_person):\n",
    "    window_spec = Window.orderBy(\"average_income_per_person\")\n",
    "    comm_mincome_person = comm_mincome_person.withColumn(\"row_num\", row_number().over(window_spec)) # with row number\n",
    "    comm_bottom_3 = comm_mincome_person.filter(comm_mincome_person.row_num <= 3).select('COMM')\n",
    "    comm_top_3 = comm_mincome_person.filter(comm_mincome_person.row_num > comm_mincome_person.count() - 3).select(\"COMM\")\n",
    "\n",
    "    # match crimes to zip codes\n",
    "    crimes_with_zipcodes = crimes_2015.join(\n",
    "        census_blocks,\n",
    "        ST_Within(crime_data['geometry'], census_blocks['geometry'])\n",
    "    )\n",
    "\n",
    "    # join legend for descriptions\n",
    "    crimes_with_descriptions = crimes_with_zipcodes.join(\n",
    "        descent_legend,\n",
    "        crimes_with_zipcodes[\"Vict Descent\"] == descent_legend[\"Vict Descent\"],\n",
    "        how=\"left\"\n",
    "    ).select(\n",
    "        crimes_with_zipcodes[\"*\"],\n",
    "        descent_legend[\"Vict Descent Full\"].alias(\"descent_description\")\n",
    "    )\n",
    "\n",
    "    top_crimes = crimes_with_descriptions.join(comm_top_3, \"COMM\", \"inner\")\n",
    "    bottom_crimes = crimes_with_descriptions.join(comm_bottom_3, \"COMM\", \"inner\")\n",
    "\n",
    "    # group and count victims by description for each group\n",
    "    top_victim_count = top_crimes.groupBy(\"descent_description\") \\\n",
    "        .agg(F.count(\"*\").alias(\"victim_count\")) \\\n",
    "        .orderBy(F.desc(\"victim_count\"))\n",
    "\n",
    "    bottom_victim_count = bottom_crimes.groupBy(\"descent_description\") \\\n",
    "        .agg(F.count(\"*\").alias(\"victim_count\")) \\\n",
    "        .orderBy(F.desc(\"victim_count\"))\n",
    "\n",
    "    print(\"Top COMM Victim Count:\")\n",
    "    top_victim_count.show()\n",
    "\n",
    "    print(\"Bottom COMM Victim Count:\")\n",
    "    bottom_victim_count.show()"
   ]
  },
  {
   "cell_type": "code",
   "execution_count": 6,
   "id": "faaeb8bc",
   "metadata": {},
   "outputs": [
    {
     "data": {
      "application/vnd.jupyter.widget-view+json": {
       "model_id": "",
       "version_major": 2,
       "version_minor": 0
      },
      "text/plain": [
       "FloatProgress(value=0.0, bar_style='info', description='Progress:', layout=Layout(height='25px', width='50%'),…"
      ]
     },
     "metadata": {},
     "output_type": "display_data"
    },
    {
     "name": "stdout",
     "output_type": "stream",
     "text": [
      "Top COMM Victim Count:\n",
      "+--------------------+------------+\n",
      "| descent_description|victim_count|\n",
      "+--------------------+------------+\n",
      "|               White|         682|\n",
      "|               Other|          81|\n",
      "|Hispanic/Latin/Me...|          75|\n",
      "|             Unknown|          50|\n",
      "|               Black|          46|\n",
      "|         Other Asian|          22|\n",
      "|             Chinese|           1|\n",
      "|American Indian/A...|           1|\n",
      "+--------------------+------------+\n",
      "\n",
      "Bottom COMM Victim Count:\n",
      "+--------------------+------------+\n",
      "| descent_description|victim_count|\n",
      "+--------------------+------------+\n",
      "|Hispanic/Latin/Me...|        3314|\n",
      "|               Black|        1152|\n",
      "|               White|         435|\n",
      "|               Other|         250|\n",
      "|         Other Asian|         136|\n",
      "|             Unknown|          31|\n",
      "|American Indian/A...|          22|\n",
      "|             Chinese|           4|\n",
      "|              Korean|           4|\n",
      "|            Filipino|           3|\n",
      "|         AsianIndian|           1|\n",
      "|           Guamanian|           1|\n",
      "+--------------------+------------+\n",
      "\n",
      "Executor Cores: 4\n",
      "Executor Memory: 8g\n",
      "Processing time: 100.2456648349762"
     ]
    }
   ],
   "source": [
    "start = time.time()\n",
    "query4(crimes_2015, income_data, census_blocks, descent_legend, comm_mincome_person)\n",
    "end = time.time()\n",
    "\n",
    "conf = spark.sparkContext.getConf()\n",
    "print(\"Executor Cores:\", conf.get(\"spark.executor.cores\"))\n",
    "print(\"Executor Memory:\", conf.get(\"spark.executor.memory\"))\n",
    "print(\"Processing time:\", end-start)"
   ]
  }
 ],
 "metadata": {
  "kernelspec": {
   "display_name": "Sparkmagic (PySpark)",
   "language": "python",
   "name": "pysparkkernel"
  },
  "language_info": {
   "codemirror_mode": {
    "name": "python",
    "version": 3
   },
   "file_extension": ".py",
   "mimetype": "text/x-python",
   "name": "pyspark",
   "pygments_lexer": "python3"
  }
 },
 "nbformat": 4,
 "nbformat_minor": 5
}
