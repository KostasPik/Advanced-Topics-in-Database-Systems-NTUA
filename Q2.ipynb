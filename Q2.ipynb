{
 "cells": [
  {
   "cell_type": "code",
   "execution_count": 1,
   "id": "0f132c34",
   "metadata": {},
   "outputs": [
    {
     "name": "stdout",
     "output_type": "stream",
     "text": [
      "Starting Spark application\n"
     ]
    },
    {
     "data": {
      "text/html": [
       "<table>\n",
       "<tr><th>ID</th><th>YARN Application ID</th><th>Kind</th><th>State</th><th>Spark UI</th><th>Driver log</th><th>User</th><th>Current session?</th></tr><tr><td>3693</td><td>application_1732639283265_3639</td><td>pyspark</td><td>idle</td><td><a target=\"_blank\" href=\"http://ip-192-168-1-36.eu-central-1.compute.internal:20888/proxy/application_1732639283265_3639/\">Link</a></td><td><a target=\"_blank\" href=\"http://ip-192-168-1-233.eu-central-1.compute.internal:8042/node/containerlogs/container_1732639283265_3639_01_000001/livy\">Link</a></td><td>None</td><td>✔</td></tr></table>"
      ],
      "text/plain": [
       "<IPython.core.display.HTML object>"
      ]
     },
     "metadata": {},
     "output_type": "display_data"
    },
    {
     "data": {
      "application/vnd.jupyter.widget-view+json": {
       "model_id": "",
       "version_major": 2,
       "version_minor": 0
      },
      "text/plain": [
       "FloatProgress(value=0.0, bar_style='info', description='Progress:', layout=Layout(height='25px', width='50%'),…"
      ]
     },
     "metadata": {},
     "output_type": "display_data"
    },
    {
     "name": "stdout",
     "output_type": "stream",
     "text": [
      "SparkSession available as 'spark'.\n"
     ]
    },
    {
     "data": {
      "application/vnd.jupyter.widget-view+json": {
       "model_id": "",
       "version_major": 2,
       "version_minor": 0
      },
      "text/plain": [
       "FloatProgress(value=0.0, bar_style='info', description='Progress:', layout=Layout(height='25px', width='50%'),…"
      ]
     },
     "metadata": {},
     "output_type": "display_data"
    }
   ],
   "source": [
    "import time\n",
    "from pyspark.sql import SparkSession\n",
    "from pyspark.sql.window import Window\n",
    "from pyspark.sql.functions import col, year, count, when, desc, sum, to_timestamp, row_number, regexp_replace, expr, asc\n",
    "from pyspark.sql.types import DecimalType\n",
    "from pyspark.sql import functions as F"
   ]
  },
  {
   "cell_type": "code",
   "execution_count": 2,
   "id": "2034a933",
   "metadata": {},
   "outputs": [
    {
     "data": {
      "application/vnd.jupyter.widget-view+json": {
       "model_id": "",
       "version_major": 2,
       "version_minor": 0
      },
      "text/plain": [
       "FloatProgress(value=0.0, bar_style='info', description='Progress:', layout=Layout(height='25px', width='50%'),…"
      ]
     },
     "metadata": {},
     "output_type": "display_data"
    },
    {
     "name": "stdout",
     "output_type": "stream",
     "text": [
      "DATAFRAME performance: 13.183066368103027\n",
      "DATAFRAME results:\n",
      "+----+-----------+------------------+---+\n",
      "|YEAR|AREA NAME  |closed_case_rate  |#  |\n",
      "+----+-----------+------------------+---+\n",
      "|2010|Rampart    |32.84713448949121 |1  |\n",
      "|2010|Olympic    |31.515289821999087|2  |\n",
      "|2010|Harbor     |29.36028339237341 |3  |\n",
      "|2011|Olympic    |35.040060090135206|1  |\n",
      "|2011|Rampart    |32.4964471814306  |2  |\n",
      "|2011|Harbor     |28.51336246316431 |3  |\n",
      "|2012|Olympic    |34.29708533302119 |1  |\n",
      "|2012|Rampart    |32.46000463714352 |2  |\n",
      "|2012|Harbor     |29.509585848956675|3  |\n",
      "|2013|Olympic    |33.58217940999398 |1  |\n",
      "|2013|Rampart    |32.1060382916053  |2  |\n",
      "|2013|Harbor     |29.723638951488557|3  |\n",
      "|2014|Van Nuys   |32.0215235281705  |1  |\n",
      "|2014|West Valley|31.49754809505847 |2  |\n",
      "|2014|Mission    |31.224939855653567|3  |\n",
      "|2015|Van Nuys   |32.265140677157845|1  |\n",
      "|2015|Mission    |30.463762673676303|2  |\n",
      "|2015|Foothill   |30.353001803658852|3  |\n",
      "|2016|Van Nuys   |32.194518462124094|1  |\n",
      "|2016|West Valley|31.40146437042384 |2  |\n",
      "|2016|Foothill   |29.908647228131645|3  |\n",
      "|2017|Van Nuys   |32.0554272517321  |1  |\n",
      "|2017|Mission    |31.055387158996968|2  |\n",
      "|2017|Foothill   |30.469700657094183|3  |\n",
      "|2018|Foothill   |30.731346958877126|1  |\n",
      "|2018|Mission    |30.727023319615913|2  |\n",
      "|2018|Van Nuys   |28.905206942590123|3  |\n",
      "|2019|Mission    |30.727411112319235|1  |\n",
      "|2019|West Valley|30.57974335472044 |2  |\n",
      "|2019|N Hollywood|29.23808669119627 |3  |\n",
      "|2020|West Valley|30.771131982204647|1  |\n",
      "|2020|Mission    |30.14974649215894 |2  |\n",
      "|2020|Harbor     |29.693486590038315|3  |\n",
      "|2021|Mission    |30.318115590092276|1  |\n",
      "|2021|West Valley|28.971087440009363|2  |\n",
      "|2021|Foothill   |27.993757094211126|3  |\n",
      "|2022|West Valley|26.536367172306498|1  |\n",
      "|2022|Harbor     |26.337538060026098|2  |\n",
      "|2022|Topanga    |26.234013317831096|3  |\n",
      "|2023|Foothill   |26.76076020122974 |1  |\n",
      "|2023|Topanga    |26.538022616453986|2  |\n",
      "|2023|Mission    |25.662731120516817|3  |\n",
      "|2024|N Hollywood|19.598528961078763|1  |\n",
      "|2024|Foothill   |18.620882188721385|2  |\n",
      "|2024|77th Street|17.586318167150694|3  |\n",
      "+----+-----------+------------------+---+"
     ]
    }
   ],
   "source": [
    "### QUERY 2 (a)\n",
    "APP_NAME = \"Closed Cases\"\n",
    "spark = SparkSession.builder.appName(APP_NAME).getOrCreate() # reconstructing because we dont need 4 spark executors now\n",
    "\n",
    "# crime data\n",
    "d1 = spark.read.csv(\n",
    "    \"s3://initial-notebook-data-bucket-dblab-905418150721/CrimeData/Crime_Data_from_2010_to_2019_20241101.csv\",\n",
    "    header=True, inferSchema=True).select(col('DATE OCC'), col('AREA NAME'), col('Status'), col('LAT'), col('LON'))\n",
    "d2 = spark.read.csv(\n",
    "    \"s3://initial-notebook-data-bucket-dblab-905418150721/CrimeData/Crime_Data_from_2020_to_Present_20241101.csv\",\n",
    "    header=True, inferSchema=True).select(col('DATE OCC'), col('AREA NAME'), col('Status'), col('LAT'), col('LON'))\n",
    "crime_data = d1.union(d2)\n",
    "\n",
    "# DATAFRAME API BEGIN #\n",
    "start = time.time()\n",
    "crime_data = crime_data.withColumn('YEAR', year(to_timestamp(col('DATE OCC'), 'MM/dd/yyyy hh:mm:ss a'))).withColumn('closed', when(~col('Status').isin('IC', 'UKN'), 1).otherwise(0))\n",
    "crime_data_agg = crime_data.groupBy('YEAR', 'AREA NAME').agg(\n",
    "    count('*').alias(\"total_cases\"),\n",
    "    sum('closed').alias('closed_cases')\n",
    ")\n",
    "crime_cc_rates = crime_data_agg.withColumn('closed_case_rate', when(col('total_cases') > 0, col('closed_cases')/col('total_cases') * 100).otherwise(None)).drop('closed_cases').drop('total_cases')\n",
    "window_spec = Window.partitionBy('year').orderBy(desc('closed_case_rate'))\n",
    "ranked_df = crime_cc_rates.withColumn(\"#\", row_number().over(window_spec))\n",
    "top3_df = ranked_df.filter(col(\"#\") <= 3)\n",
    "# top3_df.explain(True)\n",
    "top3_df_collect = top3_df.collect()\n",
    "end = time.time()\n",
    "dataframe_time = end-start\n",
    "print(\"DATAFRAME performance:\", end-start)\n",
    "print(\"DATAFRAME results:\")\n",
    "top3_df.show(n=top3_df.count(), truncate=False)\n",
    "# DATAFRAME API END #"
   ]
  },
  {
   "cell_type": "code",
   "execution_count": 3,
   "id": "d7fa0a97",
   "metadata": {},
   "outputs": [
    {
     "data": {
      "application/vnd.jupyter.widget-view+json": {
       "model_id": "",
       "version_major": 2,
       "version_minor": 0
      },
      "text/plain": [
       "FloatProgress(value=0.0, bar_style='info', description='Progress:', layout=Layout(height='25px', width='50%'),…"
      ]
     },
     "metadata": {},
     "output_type": "display_data"
    },
    {
     "name": "stdout",
     "output_type": "stream",
     "text": [
      "SQL performance: 8.888805389404297\n",
      "SQL results:\n",
      "+----+-----------+------------------+---+\n",
      "|YEAR|AREA NAME  |closed_case_rate  |#  |\n",
      "+----+-----------+------------------+---+\n",
      "|2010|Rampart    |32.84713448949121 |1  |\n",
      "|2010|Olympic    |31.515289821999087|2  |\n",
      "|2010|Harbor     |29.36028339237341 |3  |\n",
      "|2011|Olympic    |35.040060090135206|1  |\n",
      "|2011|Rampart    |32.4964471814306  |2  |\n",
      "|2011|Harbor     |28.51336246316431 |3  |\n",
      "|2012|Olympic    |34.29708533302119 |1  |\n",
      "|2012|Rampart    |32.46000463714352 |2  |\n",
      "|2012|Harbor     |29.509585848956675|3  |\n",
      "|2013|Olympic    |33.58217940999398 |1  |\n",
      "|2013|Rampart    |32.1060382916053  |2  |\n",
      "|2013|Harbor     |29.723638951488557|3  |\n",
      "|2014|Van Nuys   |32.0215235281705  |1  |\n",
      "|2014|West Valley|31.49754809505847 |2  |\n",
      "|2014|Mission    |31.224939855653567|3  |\n",
      "|2015|Van Nuys   |32.265140677157845|1  |\n",
      "|2015|Mission    |30.463762673676303|2  |\n",
      "|2015|Foothill   |30.353001803658852|3  |\n",
      "|2016|Van Nuys   |32.194518462124094|1  |\n",
      "|2016|West Valley|31.40146437042384 |2  |\n",
      "|2016|Foothill   |29.908647228131645|3  |\n",
      "|2017|Van Nuys   |32.0554272517321  |1  |\n",
      "|2017|Mission    |31.055387158996968|2  |\n",
      "|2017|Foothill   |30.469700657094183|3  |\n",
      "|2018|Foothill   |30.731346958877126|1  |\n",
      "|2018|Mission    |30.727023319615913|2  |\n",
      "|2018|Van Nuys   |28.905206942590123|3  |\n",
      "|2019|Mission    |30.727411112319235|1  |\n",
      "|2019|West Valley|30.57974335472044 |2  |\n",
      "|2019|N Hollywood|29.23808669119627 |3  |\n",
      "|2020|West Valley|30.771131982204647|1  |\n",
      "|2020|Mission    |30.14974649215894 |2  |\n",
      "|2020|Harbor     |29.693486590038315|3  |\n",
      "|2021|Mission    |30.318115590092276|1  |\n",
      "|2021|West Valley|28.971087440009363|2  |\n",
      "|2021|Foothill   |27.993757094211126|3  |\n",
      "|2022|West Valley|26.536367172306498|1  |\n",
      "|2022|Harbor     |26.337538060026098|2  |\n",
      "|2022|Topanga    |26.234013317831096|3  |\n",
      "|2023|Foothill   |26.76076020122974 |1  |\n",
      "|2023|Topanga    |26.538022616453986|2  |\n",
      "|2023|Mission    |25.662731120516817|3  |\n",
      "|2024|N Hollywood|19.598528961078763|1  |\n",
      "|2024|Foothill   |18.620882188721385|2  |\n",
      "|2024|77th Street|17.586318167150694|3  |\n",
      "+----+-----------+------------------+---+"
     ]
    }
   ],
   "source": [
    "# crime data\n",
    "d1 = spark.read.csv(\n",
    "    \"s3://initial-notebook-data-bucket-dblab-905418150721/CrimeData/Crime_Data_from_2010_to_2019_20241101.csv\",\n",
    "    header=True, inferSchema=True).select(col('DATE OCC'), col('AREA NAME'), col('Status'), col('LAT'), col('LON'))\n",
    "d2 = spark.read.csv(\n",
    "    \"s3://initial-notebook-data-bucket-dblab-905418150721/CrimeData/Crime_Data_from_2020_to_Present_20241101.csv\",\n",
    "    header=True, inferSchema=True).select(col('DATE OCC'), col('AREA NAME'), col('Status'), col('LAT'), col('LON'))\n",
    "crime_data = d1.union(d2)\n",
    "\n",
    "query = \"\"\"\n",
    "WITH processed_data AS (\n",
    "    SELECT \n",
    "        YEAR(TO_TIMESTAMP(`DATE OCC`, 'MM/dd/yyyy hh:mm:ss a')) AS YEAR,\n",
    "        `AREA NAME`,\n",
    "        CASE WHEN `Status` NOT IN ('IC', 'UKN') THEN 1 ELSE 0 END AS closed\n",
    "    FROM crime_data\n",
    "),\n",
    "aggregated_data AS (\n",
    "    SELECT\n",
    "        YEAR,\n",
    "        `AREA NAME`,\n",
    "        COUNT(*) AS total_cases,\n",
    "        SUM(closed) AS closed_cases\n",
    "    FROM processed_data\n",
    "    GROUP BY YEAR, `AREA NAME`\n",
    "),\n",
    "crime_cc_rates AS (\n",
    "    SELECT\n",
    "        YEAR,\n",
    "        `AREA NAME`,\n",
    "        (CASE WHEN total_cases > 0 THEN (closed_cases / total_cases) * 100 ELSE NULL END) AS closed_case_rate\n",
    "    FROM aggregated_data\n",
    "),\n",
    "ranked_data AS (\n",
    "    SELECT\n",
    "        YEAR,\n",
    "        `AREA NAME`,\n",
    "        closed_case_rate,\n",
    "        ROW_NUMBER() OVER (PARTITION BY YEAR ORDER BY closed_case_rate DESC) AS rank\n",
    "    FROM crime_cc_rates\n",
    ")\n",
    "SELECT\n",
    "    YEAR,\n",
    "    `AREA NAME`,\n",
    "    closed_case_rate,\n",
    "    rank AS `#`\n",
    "FROM ranked_data\n",
    "WHERE rank <= 3\n",
    "\"\"\"\n",
    "\n",
    "# SQL API BEGIN #\n",
    "start = time.time()\n",
    "crime_data.createOrReplaceTempView(\"crime_data\") # register the crime_data DataFrame as a temporary view\n",
    "top3_sql = spark.sql(query)\n",
    "top3_sql_collect = top3_sql.collect()\n",
    "end = time.time()\n",
    "sql_time = end-start\n",
    "print(\"SQL performance:\", end-start)\n",
    "print(\"SQL results:\")\n",
    "top3_sql.show(n=top3_df.count(), truncate=False)\n",
    "# SQL API END #"
   ]
  },
  {
   "cell_type": "code",
   "execution_count": 4,
   "id": "4eaae493",
   "metadata": {},
   "outputs": [
    {
     "data": {
      "application/vnd.jupyter.widget-view+json": {
       "model_id": "",
       "version_major": 2,
       "version_minor": 0
      },
      "text/plain": [
       "FloatProgress(value=0.0, bar_style='info', description='Progress:', layout=Layout(height='25px', width='50%'),…"
      ]
     },
     "metadata": {},
     "output_type": "display_data"
    },
    {
     "name": "stdout",
     "output_type": "stream",
     "text": [
      "DATAFRAME performance: 4.5808703899383545\n",
      "DATAFRAME results:\n",
      "+----+-----------+------------------+---+\n",
      "|YEAR|AREA NAME  |closed_case_rate  |#  |\n",
      "+----+-----------+------------------+---+\n",
      "|2010|Rampart    |32.84713448949121 |1  |\n",
      "|2010|Olympic    |31.515289821999087|2  |\n",
      "|2010|Harbor     |29.36028339237341 |3  |\n",
      "|2011|Olympic    |35.040060090135206|1  |\n",
      "|2011|Rampart    |32.4964471814306  |2  |\n",
      "|2011|Harbor     |28.51336246316431 |3  |\n",
      "|2012|Olympic    |34.29708533302119 |1  |\n",
      "|2012|Rampart    |32.46000463714352 |2  |\n",
      "|2012|Harbor     |29.509585848956675|3  |\n",
      "|2013|Olympic    |33.58217940999398 |1  |\n",
      "|2013|Rampart    |32.1060382916053  |2  |\n",
      "|2013|Harbor     |29.723638951488557|3  |\n",
      "|2014|Van Nuys   |32.0215235281705  |1  |\n",
      "|2014|West Valley|31.49754809505847 |2  |\n",
      "|2014|Mission    |31.224939855653567|3  |\n",
      "|2015|Van Nuys   |32.265140677157845|1  |\n",
      "|2015|Mission    |30.463762673676303|2  |\n",
      "|2015|Foothill   |30.353001803658852|3  |\n",
      "|2016|Van Nuys   |32.194518462124094|1  |\n",
      "|2016|West Valley|31.40146437042384 |2  |\n",
      "|2016|Foothill   |29.908647228131645|3  |\n",
      "|2017|Van Nuys   |32.0554272517321  |1  |\n",
      "|2017|Mission    |31.055387158996968|2  |\n",
      "|2017|Foothill   |30.469700657094183|3  |\n",
      "|2018|Foothill   |30.731346958877126|1  |\n",
      "|2018|Mission    |30.727023319615913|2  |\n",
      "|2018|Van Nuys   |28.905206942590123|3  |\n",
      "|2019|Mission    |30.727411112319235|1  |\n",
      "|2019|West Valley|30.57974335472044 |2  |\n",
      "|2019|N Hollywood|29.23808669119627 |3  |\n",
      "|2020|West Valley|30.771131982204647|1  |\n",
      "|2020|Mission    |30.14974649215894 |2  |\n",
      "|2020|Harbor     |29.693486590038315|3  |\n",
      "|2021|Mission    |30.318115590092276|1  |\n",
      "|2021|West Valley|28.971087440009363|2  |\n",
      "|2021|Foothill   |27.993757094211126|3  |\n",
      "|2022|West Valley|26.536367172306498|1  |\n",
      "|2022|Harbor     |26.337538060026098|2  |\n",
      "|2022|Topanga    |26.234013317831096|3  |\n",
      "|2023|Foothill   |26.76076020122974 |1  |\n",
      "|2023|Topanga    |26.538022616453986|2  |\n",
      "|2023|Mission    |25.662731120516817|3  |\n",
      "|2024|N Hollywood|19.598528961078763|1  |\n",
      "|2024|Foothill   |18.620882188721385|2  |\n",
      "|2024|77th Street|17.586318167150694|3  |\n",
      "+----+-----------+------------------+---+"
     ]
    }
   ],
   "source": [
    "### QUERY 2 (b)\n",
    "crime_data.write.mode(\"overwrite\").parquet(\"s3://groups-bucket-dblab-905418150721/group33/CrimeData.parquet\")\n",
    "crime_data_parquet = spark.read.parquet(\"s3://groups-bucket-dblab-905418150721/group33/CrimeData.parquet\")\n",
    "\n",
    "def process_data_dataframe(crime_data):\n",
    "    crime_data = crime_data.withColumn('YEAR', year(to_timestamp(col('DATE OCC'), 'MM/dd/yyyy hh:mm:ss a'))) \\\n",
    "                           .withColumn('closed', when(~col('Status').isin('IC', 'UKN'), 1).otherwise(0))\n",
    "    crime_data_agg = crime_data.groupBy('YEAR', 'AREA NAME').agg(\n",
    "        count('*').alias(\"total_cases\"),\n",
    "        sum('closed').alias('closed_cases')\n",
    "    )\n",
    "    crime_cc_rates = crime_data_agg.withColumn(\n",
    "        'closed_case_rate', \n",
    "        when(col('total_cases') > 0, col('closed_cases') / col('total_cases') * 100).otherwise(None)\n",
    "    ).drop('closed_cases').drop('total_cases')\n",
    "    window_spec = Window.partitionBy('YEAR').orderBy(desc('closed_case_rate'))\n",
    "    ranked_df = crime_cc_rates.withColumn(\"#\", row_number().over(window_spec))\n",
    "    top3_df = ranked_df.filter(col(\"#\") <= 3)\n",
    "    return top3_df\n",
    "\n",
    "# DATAFRAME API BEGIN #\n",
    "start = time.time()\n",
    "top3_df_parquet = process_data_dataframe(crime_data_parquet)\n",
    "top3_df_parquet_collect = top3_df_parquet.collect()\n",
    "end = time.time()\n",
    "parquet_time = end-start\n",
    "print(\"DATAFRAME performance:\", end-start)\n",
    "print(\"DATAFRAME results:\")\n",
    "top3_df_parquet.show(n=top3_df_parquet.count(), truncate=False)\n",
    "# DATAFRAME API END #"
   ]
  },
  {
   "cell_type": "code",
   "execution_count": 6,
   "id": "55b4cfd0",
   "metadata": {},
   "outputs": [
    {
     "data": {
      "application/vnd.jupyter.widget-view+json": {
       "model_id": "",
       "version_major": 2,
       "version_minor": 0
      },
      "text/plain": [
       "FloatProgress(value=0.0, bar_style='info', description='Progress:', layout=Layout(height='25px', width='50%'),…"
      ]
     },
     "metadata": {},
     "output_type": "display_data"
    },
    {
     "name": "stdout",
     "output_type": "stream",
     "text": [
      "SQL Speedup: 1.4831088982798082\n",
      "Parquet Speedup: 2.8778518591268054"
     ]
    }
   ],
   "source": [
    "print(\"SQL Speedup:\", dataframe_time/sql_time)\n",
    "print(\"Parquet Speedup:\", dataframe_time/parquet_time)"
   ]
  }
 ],
 "metadata": {
  "kernelspec": {
   "display_name": "Sparkmagic (PySpark)",
   "language": "python",
   "name": "pysparkkernel"
  },
  "language_info": {
   "codemirror_mode": {
    "name": "python",
    "version": 3
   },
   "file_extension": ".py",
   "mimetype": "text/x-python",
   "name": "pyspark",
   "pygments_lexer": "python3"
  }
 },
 "nbformat": 4,
 "nbformat_minor": 5
}
